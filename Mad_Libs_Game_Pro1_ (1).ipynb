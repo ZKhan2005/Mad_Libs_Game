{
  "nbformat": 4,
  "nbformat_minor": 0,
  "metadata": {
    "colab": {
      "provenance": []
    },
    "kernelspec": {
      "name": "python3",
      "display_name": "Python 3"
    },
    "language_info": {
      "name": "python"
    }
  },
  "cells": [
    {
      "cell_type": "markdown",
      "source": [
        "# **Mad Libs Game In Python**"
      ],
      "metadata": {
        "id": "pvdx2Qa76_wP"
      }
    },
    {
      "cell_type": "code",
      "source": [
        "# Take User Input\n",
        "name = input(\"Enter the Girl's Name: \")\n",
        "course_Name = input(\"Enter the Course Name (e.g., Artificial Intelligence, Blockchain, Web Development): \")\n",
        "programming_lang = input(\"Enter the Programming Language (e.g., HTML, TypeScript, Next.js, Python): \")\n",
        "mentor = input(\"Enter the Mentor's Name: \")\n",
        "haunted_place = input(\"Enter the Haunted Place: \")\n",
        "\n",
        "# Story created\n",
        "print(\"\\nHere is my short story based on the Mad Libs Game!\")\n",
        "print(f\"Once upon a time, there was a girl named {name}, a dedicated student of PIAIC and GIAIC. She was enrolled in the {course_Name} course and had a deep passion for {programming_lang}. Under the guidance of her mentor, {mentor}, she worked tirelessly to master her skills.\")\n",
        "\n",
        "print(f\"One night, {name} had to visit {haunted_place} to complete a research project. She also had a late-night shift at the same place. When her class was over, she decided to stay a little longer, reviewing her notes and perfecting her code. The once-crowded Bahria Auditorium was now eerily empty. As she typed, the stage lights flickered, and from the corner of her eye, she saw a shadowy figure standing motionless on the stage.\")\n",
        "\n",
        "print(f\"A chill ran down her spine, but she brushed it off as exhaustion. Moments later, the auditorium's main door creaked open on its own. A sudden gust of wind sent her papers flying. She hurried to pick them up, only to find a single, unfamiliar sheet among them. It was filled with cryptic symbols and an unsettling message: 'YOU DO NOT BELONG HERE.'\")\n",
        "\n",
        "print(f\"Her laptop screen began to glitch violently. Lines of unfamiliar code scrolled endlessly, flashing warnings in deep red. Then, the power went out. Only the glow of her laptop remained, illuminating a ghostly figure reflected on the screen—its hollow eyes staring directly into hers. A guttural whisper echoed through the room: 'Leave... before it's too late.'\")\n",
        "\n",
        "print(f\"Frozen in terror, {name} tried to shut down her laptop, but an unseen force kept her hands locked to the keyboard. The auditorium doors slammed shut. A sinister laughter filled the room as the black figure on stage started moving toward her. Her heart pounded as the screen displayed a final, chilling message: 'RUN.'\")\n",
        "\n",
        "print(f\"She let out a bloodcurdling scream as the darkness consumed her. The next morning, the janitor found her belongings neatly placed on the front row seat—but {name} was nowhere to be found. Her laptop remained open, displaying one haunting error message: '404: SOUL NOT FOUND.'\")\n",
        "\n",
        "print(\"And from that day on, every student who opens that laptop hears a whisper—a whisper that knows their name...\")\n"
      ],
      "metadata": {
        "colab": {
          "base_uri": "https://localhost:8080/"
        },
        "id": "e0-uDWJrGpmI",
        "outputId": "2b59b641-0640-4903-f899-9c296a57717f"
      },
      "execution_count": 1,
      "outputs": [
        {
          "output_type": "stream",
          "name": "stdout",
          "text": [
            "Enter the Girl's Name: Amal Khan\n",
            "Enter the Course Name (e.g., Artificial Intelligence, Blockchain, Web Development): Artificial Intelligence\n",
            "Enter the Programming Language (e.g., HTML, TypeScript, Next.js, Python): Python\n",
            "Enter the Mentor's Name: Miss Mehak\n",
            "Enter the Haunted Place: Bahria Auditorium Karsaz\n",
            "\n",
            "Here is my short story based on the Mad Libs Game!\n",
            "Once upon a time, there was a girl named Amal Khan, a dedicated student of PIAIC and GIAIC. She was enrolled in the Artificial Intelligence course and had a deep passion for Python. Under the guidance of her mentor, Miss Mehak, she worked tirelessly to master her skills.\n",
            "One night, Amal Khan had to visit Bahria Auditorium Karsaz to complete a research project. She also had a late-night shift at the same place. When her class was over, she decided to stay a little longer, reviewing her notes and perfecting her code. The once-crowded Bahria Auditorium was now eerily empty. As she typed, the stage lights flickered, and from the corner of her eye, she saw a shadowy figure standing motionless on the stage.\n",
            "A chill ran down her spine, but she brushed it off as exhaustion. Moments later, the auditorium's main door creaked open on its own. A sudden gust of wind sent her papers flying. She hurried to pick them up, only to find a single, unfamiliar sheet among them. It was filled with cryptic symbols and an unsettling message: 'YOU DO NOT BELONG HERE.'\n",
            "Her laptop screen began to glitch violently. Lines of unfamiliar code scrolled endlessly, flashing warnings in deep red. Then, the power went out. Only the glow of her laptop remained, illuminating a ghostly figure reflected on the screen—its hollow eyes staring directly into hers. A guttural whisper echoed through the room: 'Leave... before it's too late.'\n",
            "Frozen in terror, Amal Khan tried to shut down her laptop, but an unseen force kept her hands locked to the keyboard. The auditorium doors slammed shut. A sinister laughter filled the room as the black figure on stage started moving toward her. Her heart pounded as the screen displayed a final, chilling message: 'RUN.'\n",
            "She let out a bloodcurdling scream as the darkness consumed her. The next morning, the janitor found her belongings neatly placed on the front row seat—but Amal Khan was nowhere to be found. Her laptop remained open, displaying one haunting error message: '404: SOUL NOT FOUND.'\n",
            "And from that day on, every student who opens that laptop hears a whisper—a whisper that knows their name...\n"
          ]
        }
      ]
    }
  ]
}